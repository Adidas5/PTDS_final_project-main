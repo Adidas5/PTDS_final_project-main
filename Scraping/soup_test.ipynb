{
 "cells": [
  {
   "cell_type": "code",
   "execution_count": 8,
   "metadata": {},
   "outputs": [
    {
     "name": "stdout",
     "output_type": "stream",
     "text": [
      "Table not found. Please check the URL or the table structure.\n"
     ]
    }
   ],
   "source": [
    "import requests\n",
    "from bs4 import BeautifulSoup\n",
    "import pandas as pd\n",
    "\n",
    "url = \"https://www.wunderground.com/history/monthly/us/tn/nashville/KBNA/date/2023-6\"\n",
    "\n",
    "# Send a GET request to the URL\n",
    "response = requests.get(url)\n",
    "\n",
    "# Create a BeautifulSoup object to parse the HTML content\n",
    "soup = BeautifulSoup(response.content, \"html.parser\")\n",
    "\n",
    "# Find the table with class \"responsive airport-history-summary-table\"\n",
    "table = soup.find(\"table\", {\"class\": \"responsive airport-history-summary-table\"})\n",
    "\n",
    "if table is not None:\n",
    "    # Create lists to store the table data\n",
    "    headers = []\n",
    "    data_rows = []\n",
    "\n",
    "    # Extract the headers from the table\n",
    "    header_row = table.find(\"thead\").find(\"tr\")\n",
    "    header_cells = header_row.find_all(\"th\")\n",
    "    for cell in header_cells:\n",
    "        headers.append(cell.get_text(strip=True))\n",
    "\n",
    "    # Extract the data rows from the table\n",
    "    body_rows = table.find(\"tbody\").find_all(\"tr\")\n",
    "    for row in body_rows:\n",
    "        cells = row.find_all(\"td\")\n",
    "        data = []\n",
    "        for cell in cells:\n",
    "            data.append(cell.get_text(strip=True))\n",
    "        data_rows.append(data)\n",
    "\n",
    "    # Create a pandas DataFrame with the extracted data\n",
    "    df = pd.DataFrame(data_rows, columns=headers)\n",
    "\n",
    "    # Print the DataFrame\n",
    "    print(df)\n",
    "else:\n",
    "    print(\"Table not found. Please check the URL or the table structure.\")"
   ]
  },
  {
   "cell_type": "code",
   "execution_count": 17,
   "metadata": {},
   "outputs": [
    {
     "name": "stdout",
     "output_type": "stream",
     "text": [
      "Table not found on the page.\n"
     ]
    }
   ],
   "source": [
    "import requests\n",
    "import pandas as pd\n",
    "from bs4 import BeautifulSoup\n",
    "\n",
    "# URL of the website\n",
    "url = \"https://www.wunderground.com/history/monthly/us/tn/nashville/KBNA/date/2023-6\"\n",
    "\n",
    "# Send an HTTP GET request to the website\n",
    "response = requests.get(url)\n",
    "\n",
    "# Parse the HTML content using BeautifulSoup\n",
    "soup = BeautifulSoup(response.content, \"html.parser\")\n",
    "\n",
    "# Find the table using the class and aria-labelledby attributes\n",
    "table = soup.find(\"table\", class_=\"days ng-star-inserted\", attrs={\"aria-labelledby\": \"History days\"})\n",
    "\n",
    "# Check if the table was found\n",
    "if table is not None:\n",
    "    # Extract table headers\n",
    "    headers = [th.text.strip() for th in table.select(\"thead tr th\")]\n",
    "\n",
    "    # Extract table rows\n",
    "    rows = []\n",
    "    for row in table.select(\"tbody tr\"):\n",
    "        row_data = [td.text.strip() for td in row.find_all(\"td\")]\n",
    "        rows.append(row_data)\n",
    "\n",
    "    # Create a pandas DataFrame\n",
    "    df = pd.DataFrame(rows, columns=headers)\n",
    "\n",
    "    # Print the DataFrame\n",
    "    print(df)\n",
    "else:\n",
    "    print(\"Table not found on the page.\")"
   ]
  },
  {
   "cell_type": "code",
   "execution_count": null,
   "metadata": {},
   "outputs": [],
   "source": []
  }
 ],
 "metadata": {
  "kernelspec": {
   "display_name": "Python 3 (ipykernel)",
   "language": "python",
   "name": "python3"
  },
  "language_info": {
   "codemirror_mode": {
    "name": "ipython",
    "version": 3
   },
   "file_extension": ".py",
   "mimetype": "text/x-python",
   "name": "python",
   "nbconvert_exporter": "python",
   "pygments_lexer": "ipython3",
   "version": "3.9.16"
  },
  "orig_nbformat": 4
 },
 "nbformat": 4,
 "nbformat_minor": 2
}
